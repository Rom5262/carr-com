{
 "cells": [
  {
   "cell_type": "code",
   "execution_count": 1,
   "id": "e4c976d9",
   "metadata": {},
   "outputs": [],
   "source": [
    "import pandas as pd\n",
    "import numpy as np\n",
    "import matplotlib.pyplot as plt"
   ]
  },
  {
   "cell_type": "code",
   "execution_count": 2,
   "id": "0dad6bc6",
   "metadata": {},
   "outputs": [],
   "source": [
    "orders = pd.read_csv('instacart_orders.csv', sep=';')"
   ]
  },
  {
   "cell_type": "code",
   "execution_count": 3,
   "id": "4233195b",
   "metadata": {},
   "outputs": [],
   "source": [
    "products = pd.read_csv('products.csv', sep=';')"
   ]
  },
  {
   "cell_type": "code",
   "execution_count": 4,
   "id": "5eca4baf",
   "metadata": {},
   "outputs": [],
   "source": [
    "aisles = pd.read_csv('aisles.csv', sep=';')"
   ]
  },
  {
   "cell_type": "code",
   "execution_count": 5,
   "id": "f1489cf6",
   "metadata": {},
   "outputs": [],
   "source": [
    "departments = pd.read_csv('departments.csv', sep=';')"
   ]
  },
  {
   "cell_type": "code",
   "execution_count": 6,
   "id": "6ef71183",
   "metadata": {},
   "outputs": [],
   "source": [
    "order_products = pd.read_csv('order_products.csv', sep=';')"
   ]
  }
 ],
 "metadata": {
  "kernelspec": {
   "display_name": "Python 3",
   "language": "python",
   "name": "python3"
  },
  "language_info": {
   "codemirror_mode": {
    "name": "ipython",
    "version": 3
   },
   "file_extension": ".py",
   "mimetype": "text/x-python",
   "name": "python",
   "nbconvert_exporter": "python",
   "pygments_lexer": "ipython3",
   "version": "3.13.3"
  }
 },
 "nbformat": 4,
 "nbformat_minor": 5
}
