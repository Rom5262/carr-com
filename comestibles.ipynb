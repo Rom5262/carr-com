{
 "cells": [
  {
   "cell_type": "code",
   "execution_count": 1,
   "id": "e4c976d9",
   "metadata": {},
   "outputs": [],
   "source": [
    "import pandas as pd\n",
    "import numpy as np\n",
    "import matplotlib.pyplot as plt"
   ]
  },
  {
   "cell_type": "code",
   "execution_count": 2,
   "id": "0dad6bc6",
   "metadata": {},
   "outputs": [],
   "source": [
    "orders = pd.read_csv('instacart_orders.csv', sep=';')"
   ]
  },
  {
   "cell_type": "code",
   "execution_count": 3,
   "id": "4233195b",
   "metadata": {},
   "outputs": [],
   "source": [
    "products = pd.read_csv('products.csv', sep=';')"
   ]
  },
  {
   "cell_type": "code",
   "execution_count": 4,
   "id": "5eca4baf",
   "metadata": {},
   "outputs": [],
   "source": [
    "aisles = pd.read_csv('aisles.csv', sep=';')"
   ]
  },
  {
   "cell_type": "code",
   "execution_count": 5,
   "id": "f1489cf6",
   "metadata": {},
   "outputs": [],
   "source": [
    "departments = pd.read_csv('departments.csv', sep=';')"
   ]
  },
  {
   "cell_type": "code",
   "execution_count": 6,
   "id": "6ef71183",
   "metadata": {},
   "outputs": [],
   "source": [
    "order_products = pd.read_csv('order_products.csv', sep=';')"
   ]
  },
  {
   "cell_type": "markdown",
   "id": "9d6b57a8",
   "metadata": {},
   "source": [
    "Se  comenzará a trabajar con cada archivo, se les realizará diversos analisis para tener una información más\n",
    "precisa de cada uno"
   ]
  },
  {
   "cell_type": "markdown",
   "id": "08a30819",
   "metadata": {},
   "source": [
    "<span style=\"font-size: 2em; color: #FF69B4; font-weight: bold;\">ORDERS</span>\n"
   ]
  },
  {
   "cell_type": "code",
   "execution_count": 7,
   "id": "e4d4b40e",
   "metadata": {},
   "outputs": [
    {
     "name": "stdout",
     "output_type": "stream",
     "text": [
      "<class 'pandas.core.frame.DataFrame'>\n",
      "RangeIndex: 478967 entries, 0 to 478966\n",
      "Data columns (total 6 columns):\n",
      " #   Column                  Non-Null Count   Dtype  \n",
      "---  ------                  --------------   -----  \n",
      " 0   order_id                478967 non-null  int64  \n",
      " 1   user_id                 478967 non-null  int64  \n",
      " 2   order_number            478967 non-null  int64  \n",
      " 3   order_dow               478967 non-null  int64  \n",
      " 4   order_hour_of_day       478967 non-null  int64  \n",
      " 5   days_since_prior_order  450148 non-null  float64\n",
      "dtypes: float64(1), int64(5)\n",
      "memory usage: 21.9 MB\n"
     ]
    }
   ],
   "source": [
    "orders.info()"
   ]
  },
  {
   "cell_type": "code",
   "execution_count": 8,
   "id": "c6e65e20",
   "metadata": {},
   "outputs": [
    {
     "data": {
      "text/plain": [
       "Index(['order_id', 'user_id', 'order_number', 'order_dow', 'order_hour_of_day',\n",
       "       'days_since_prior_order'],\n",
       "      dtype='object')"
      ]
     },
     "execution_count": 8,
     "metadata": {},
     "output_type": "execute_result"
    }
   ],
   "source": [
    "orders.columns"
   ]
  },
  {
   "cell_type": "code",
   "execution_count": 9,
   "id": "bf5ebc9b",
   "metadata": {},
   "outputs": [
    {
     "data": {
      "text/plain": [
       "np.int64(15)"
      ]
     },
     "execution_count": 9,
     "metadata": {},
     "output_type": "execute_result"
    }
   ],
   "source": [
    "orders.duplicated().sum()"
   ]
  },
  {
   "cell_type": "code",
   "execution_count": 10,
   "id": "4afa31cc",
   "metadata": {},
   "outputs": [
    {
     "name": "stdout",
     "output_type": "stream",
     "text": [
      "0\n"
     ]
    },
    {
     "data": {
      "text/plain": [
       "0"
      ]
     },
     "execution_count": 10,
     "metadata": {},
     "output_type": "execute_result"
    }
   ],
   "source": [
    "orders = orders.drop_duplicates()\n",
    "print(orders.duplicated().sum())\n",
    "0"
   ]
  },
  {
   "cell_type": "code",
   "execution_count": 11,
   "id": "f4934182",
   "metadata": {},
   "outputs": [
    {
     "name": "stdout",
     "output_type": "stream",
     "text": [
      "0\n"
     ]
    }
   ],
   "source": [
    "orders.drop_duplicates(inplace=True)\n",
    "print(orders.duplicated().sum())\n"
   ]
  },
  {
   "cell_type": "markdown",
   "id": "aff20909",
   "metadata": {},
   "source": [
    "Verifica todos los pedidos que se hicieron el miércoles a las 2:00 a.m."
   ]
  },
  {
   "cell_type": "code",
   "execution_count": 12,
   "id": "843e8603",
   "metadata": {},
   "outputs": [
    {
     "name": "stdout",
     "output_type": "stream",
     "text": [
      "        order_id  user_id  order_number  order_dow  order_hour_of_day  \\\n",
      "4838     2766110   162084            41          3                  2   \n",
      "5156     2190225   138285            18          3                  2   \n",
      "15506     553049    58599            13          3                  2   \n",
      "18420     382357   120200            19          3                  2   \n",
      "24691     690242    77357             2          3                  2   \n",
      "...          ...      ...           ...        ...                ...   \n",
      "457013   3384021    14881             6          3                  2   \n",
      "458816    910166   164782            18          3                  2   \n",
      "459635   1680532   106435             6          3                  2   \n",
      "468324    222962    54979            59          3                  2   \n",
      "477526   2592344    46860            38          3                  2   \n",
      "\n",
      "        days_since_prior_order  \n",
      "4838                      16.0  \n",
      "5156                      11.0  \n",
      "15506                      7.0  \n",
      "18420                     11.0  \n",
      "24691                      9.0  \n",
      "...                        ...  \n",
      "457013                    30.0  \n",
      "458816                     4.0  \n",
      "459635                    21.0  \n",
      "468324                     3.0  \n",
      "477526                     3.0  \n",
      "\n",
      "[106 rows x 6 columns]\n"
     ]
    }
   ],
   "source": [
    "print(orders.query(\"order_dow == 3 & order_hour_of_day == 2\"))"
   ]
  },
  {
   "cell_type": "code",
   "execution_count": 13,
   "id": "6cbc04d7",
   "metadata": {},
   "outputs": [
    {
     "name": "stdout",
     "output_type": "stream",
     "text": [
      "0\n"
     ]
    },
    {
     "data": {
      "text/html": [
       "<div>\n",
       "<style scoped>\n",
       "    .dataframe tbody tr th:only-of-type {\n",
       "        vertical-align: middle;\n",
       "    }\n",
       "\n",
       "    .dataframe tbody tr th {\n",
       "        vertical-align: top;\n",
       "    }\n",
       "\n",
       "    .dataframe thead th {\n",
       "        text-align: right;\n",
       "    }\n",
       "</style>\n",
       "<table border=\"1\" class=\"dataframe\">\n",
       "  <thead>\n",
       "    <tr style=\"text-align: right;\">\n",
       "      <th></th>\n",
       "      <th>order_id</th>\n",
       "      <th>user_id</th>\n",
       "      <th>order_number</th>\n",
       "      <th>order_dow</th>\n",
       "      <th>order_hour_of_day</th>\n",
       "      <th>days_since_prior_order</th>\n",
       "    </tr>\n",
       "  </thead>\n",
       "  <tbody>\n",
       "    <tr>\n",
       "      <th>0</th>\n",
       "      <td>1515936</td>\n",
       "      <td>183418</td>\n",
       "      <td>11</td>\n",
       "      <td>6</td>\n",
       "      <td>13</td>\n",
       "      <td>30.0</td>\n",
       "    </tr>\n",
       "    <tr>\n",
       "      <th>1</th>\n",
       "      <td>1690866</td>\n",
       "      <td>163593</td>\n",
       "      <td>5</td>\n",
       "      <td>5</td>\n",
       "      <td>12</td>\n",
       "      <td>9.0</td>\n",
       "    </tr>\n",
       "    <tr>\n",
       "      <th>2</th>\n",
       "      <td>1454967</td>\n",
       "      <td>39980</td>\n",
       "      <td>4</td>\n",
       "      <td>5</td>\n",
       "      <td>19</td>\n",
       "      <td>2.0</td>\n",
       "    </tr>\n",
       "    <tr>\n",
       "      <th>3</th>\n",
       "      <td>1768857</td>\n",
       "      <td>82516</td>\n",
       "      <td>56</td>\n",
       "      <td>0</td>\n",
       "      <td>20</td>\n",
       "      <td>10.0</td>\n",
       "    </tr>\n",
       "    <tr>\n",
       "      <th>4</th>\n",
       "      <td>3007858</td>\n",
       "      <td>196724</td>\n",
       "      <td>2</td>\n",
       "      <td>4</td>\n",
       "      <td>12</td>\n",
       "      <td>17.0</td>\n",
       "    </tr>\n",
       "    <tr>\n",
       "      <th>...</th>\n",
       "      <td>...</td>\n",
       "      <td>...</td>\n",
       "      <td>...</td>\n",
       "      <td>...</td>\n",
       "      <td>...</td>\n",
       "      <td>...</td>\n",
       "    </tr>\n",
       "    <tr>\n",
       "      <th>478947</th>\n",
       "      <td>3210681</td>\n",
       "      <td>5617</td>\n",
       "      <td>5</td>\n",
       "      <td>1</td>\n",
       "      <td>14</td>\n",
       "      <td>7.0</td>\n",
       "    </tr>\n",
       "    <tr>\n",
       "      <th>478948</th>\n",
       "      <td>3270802</td>\n",
       "      <td>112087</td>\n",
       "      <td>2</td>\n",
       "      <td>3</td>\n",
       "      <td>13</td>\n",
       "      <td>6.0</td>\n",
       "    </tr>\n",
       "    <tr>\n",
       "      <th>478949</th>\n",
       "      <td>885349</td>\n",
       "      <td>82944</td>\n",
       "      <td>16</td>\n",
       "      <td>2</td>\n",
       "      <td>11</td>\n",
       "      <td>6.0</td>\n",
       "    </tr>\n",
       "    <tr>\n",
       "      <th>478950</th>\n",
       "      <td>216274</td>\n",
       "      <td>4391</td>\n",
       "      <td>3</td>\n",
       "      <td>3</td>\n",
       "      <td>8</td>\n",
       "      <td>8.0</td>\n",
       "    </tr>\n",
       "    <tr>\n",
       "      <th>478951</th>\n",
       "      <td>2071924</td>\n",
       "      <td>1730</td>\n",
       "      <td>18</td>\n",
       "      <td>1</td>\n",
       "      <td>14</td>\n",
       "      <td>15.0</td>\n",
       "    </tr>\n",
       "  </tbody>\n",
       "</table>\n",
       "<p>478952 rows × 6 columns</p>\n",
       "</div>"
      ],
      "text/plain": [
       "        order_id  user_id  order_number  order_dow  order_hour_of_day  \\\n",
       "0        1515936   183418            11          6                 13   \n",
       "1        1690866   163593             5          5                 12   \n",
       "2        1454967    39980             4          5                 19   \n",
       "3        1768857    82516            56          0                 20   \n",
       "4        3007858   196724             2          4                 12   \n",
       "...          ...      ...           ...        ...                ...   \n",
       "478947   3210681     5617             5          1                 14   \n",
       "478948   3270802   112087             2          3                 13   \n",
       "478949    885349    82944            16          2                 11   \n",
       "478950    216274     4391             3          3                  8   \n",
       "478951   2071924     1730            18          1                 14   \n",
       "\n",
       "        days_since_prior_order  \n",
       "0                         30.0  \n",
       "1                          9.0  \n",
       "2                          2.0  \n",
       "3                         10.0  \n",
       "4                         17.0  \n",
       "...                        ...  \n",
       "478947                     7.0  \n",
       "478948                     6.0  \n",
       "478949                     6.0  \n",
       "478950                     8.0  \n",
       "478951                    15.0  \n",
       "\n",
       "[478952 rows x 6 columns]"
      ]
     },
     "execution_count": 13,
     "metadata": {},
     "output_type": "execute_result"
    }
   ],
   "source": [
    "print(orders['order_id'].duplicated().sum())\n",
    "orders.reset_index(drop=True)\n"
   ]
  },
  {
   "cell_type": "markdown",
   "id": "b28261ea",
   "metadata": {},
   "source": [
    "<span style=\"font-size: 2em; color: #FF5733; font-weight: bold;\">PRODUCTS</span>"
   ]
  },
  {
   "cell_type": "code",
   "execution_count": 14,
   "id": "79540d67",
   "metadata": {},
   "outputs": [
    {
     "name": "stdout",
     "output_type": "stream",
     "text": [
      "<class 'pandas.core.frame.DataFrame'>\n",
      "RangeIndex: 49694 entries, 0 to 49693\n",
      "Data columns (total 4 columns):\n",
      " #   Column         Non-Null Count  Dtype \n",
      "---  ------         --------------  ----- \n",
      " 0   product_id     49694 non-null  int64 \n",
      " 1   product_name   48436 non-null  object\n",
      " 2   aisle_id       49694 non-null  int64 \n",
      " 3   department_id  49694 non-null  int64 \n",
      "dtypes: int64(3), object(1)\n",
      "memory usage: 1.5+ MB\n"
     ]
    }
   ],
   "source": [
    "products.info()\n"
   ]
  },
  {
   "cell_type": "code",
   "execution_count": 15,
   "id": "d1fbb51e",
   "metadata": {},
   "outputs": [
    {
     "data": {
      "text/plain": [
       "Index(['product_id', 'product_name', 'aisle_id', 'department_id'], dtype='object')"
      ]
     },
     "execution_count": 15,
     "metadata": {},
     "output_type": "execute_result"
    }
   ],
   "source": [
    "products.columns"
   ]
  },
  {
   "cell_type": "code",
   "execution_count": 16,
   "id": "f608b893",
   "metadata": {},
   "outputs": [
    {
     "name": "stdout",
     "output_type": "stream",
     "text": [
      "0\n"
     ]
    }
   ],
   "source": [
    "print(products.duplicated().sum())"
   ]
  },
  {
   "cell_type": "code",
   "execution_count": 17,
   "id": "50ad028a",
   "metadata": {},
   "outputs": [
    {
     "name": "stdout",
     "output_type": "stream",
     "text": [
      "49673\n"
     ]
    }
   ],
   "source": [
    "print(products['department_id'].duplicated().sum())"
   ]
  },
  {
   "cell_type": "code",
   "execution_count": 18,
   "id": "85cfd1d3",
   "metadata": {},
   "outputs": [
    {
     "name": "stdout",
     "output_type": "stream",
     "text": [
      "1361\n"
     ]
    }
   ],
   "source": [
    "print(products['product_name'].str.upper().duplicated().sum())"
   ]
  },
  {
   "cell_type": "code",
   "execution_count": 19,
   "id": "bf226cb2",
   "metadata": {},
   "outputs": [
    {
     "name": "stdout",
     "output_type": "stream",
     "text": [
      "       product_id product_name  aisle_id  department_id\n",
      "37             38          NaN       100             21\n",
      "71             72          NaN       100             21\n",
      "109           110          NaN       100             21\n",
      "296           297          NaN       100             21\n",
      "416           417          NaN       100             21\n",
      "...           ...          ...       ...            ...\n",
      "49552       49553          NaN       100             21\n",
      "49574       49575          NaN       100             21\n",
      "49640       49641          NaN       100             21\n",
      "49663       49664          NaN       100             21\n",
      "49668       49669          NaN       100             21\n",
      "\n",
      "[1258 rows x 4 columns]\n"
     ]
    }
   ],
   "source": [
    "duplicates = products[products['product_name'].duplicated(keep=False)]\n",
    "print(duplicates)"
   ]
  },
  {
   "cell_type": "markdown",
   "id": "f93d293b",
   "metadata": {},
   "source": [
    "<span style=\"font-size: 2em; color: #FF5733; font-weight: bold;\">DEPARTMENTS</span>"
   ]
  },
  {
   "cell_type": "code",
   "execution_count": 20,
   "id": "bfb10e9a",
   "metadata": {},
   "outputs": [
    {
     "name": "stdout",
     "output_type": "stream",
     "text": [
      "<class 'pandas.core.frame.DataFrame'>\n",
      "RangeIndex: 21 entries, 0 to 20\n",
      "Data columns (total 2 columns):\n",
      " #   Column         Non-Null Count  Dtype \n",
      "---  ------         --------------  ----- \n",
      " 0   department_id  21 non-null     int64 \n",
      " 1   department     21 non-null     object\n",
      "dtypes: int64(1), object(1)\n",
      "memory usage: 468.0+ bytes\n"
     ]
    }
   ],
   "source": [
    "departments.info()"
   ]
  },
  {
   "cell_type": "code",
   "execution_count": 21,
   "id": "789635c0",
   "metadata": {},
   "outputs": [
    {
     "data": {
      "text/plain": [
       "Index(['department_id', 'department'], dtype='object')"
      ]
     },
     "execution_count": 21,
     "metadata": {},
     "output_type": "execute_result"
    }
   ],
   "source": [
    "departments.columns"
   ]
  },
  {
   "cell_type": "code",
   "execution_count": 22,
   "id": "66b16318",
   "metadata": {},
   "outputs": [
    {
     "name": "stdout",
     "output_type": "stream",
     "text": [
      "0\n"
     ]
    }
   ],
   "source": [
    "print(departments.duplicated().sum())"
   ]
  },
  {
   "cell_type": "code",
   "execution_count": 23,
   "id": "6028b229",
   "metadata": {},
   "outputs": [
    {
     "name": "stdout",
     "output_type": "stream",
     "text": [
      "0\n"
     ]
    }
   ],
   "source": [
    "departments.drop_duplicates(inplace=True)\n",
    "print(departments.duplicated().sum())"
   ]
  },
  {
   "cell_type": "markdown",
   "id": "15a5c045",
   "metadata": {},
   "source": [
    "<span style=\"font-size: 2em; color: #FF5733; font-weight: bold;\">AISLES</span>"
   ]
  },
  {
   "cell_type": "code",
   "execution_count": 24,
   "id": "89b49cfc",
   "metadata": {},
   "outputs": [
    {
     "name": "stdout",
     "output_type": "stream",
     "text": [
      "<class 'pandas.core.frame.DataFrame'>\n",
      "RangeIndex: 134 entries, 0 to 133\n",
      "Data columns (total 2 columns):\n",
      " #   Column    Non-Null Count  Dtype \n",
      "---  ------    --------------  ----- \n",
      " 0   aisle_id  134 non-null    int64 \n",
      " 1   aisle     134 non-null    object\n",
      "dtypes: int64(1), object(1)\n",
      "memory usage: 2.2+ KB\n"
     ]
    }
   ],
   "source": [
    "aisles.info()"
   ]
  },
  {
   "cell_type": "code",
   "execution_count": 25,
   "id": "7857a272",
   "metadata": {},
   "outputs": [
    {
     "data": {
      "text/plain": [
       "Index(['aisle_id', 'aisle'], dtype='object')"
      ]
     },
     "execution_count": 25,
     "metadata": {},
     "output_type": "execute_result"
    }
   ],
   "source": [
    "aisles.columns"
   ]
  },
  {
   "cell_type": "code",
   "execution_count": 26,
   "id": "73a08986",
   "metadata": {},
   "outputs": [
    {
     "name": "stdout",
     "output_type": "stream",
     "text": [
      "0\n"
     ]
    }
   ],
   "source": [
    "print(aisles.duplicated().sum())"
   ]
  },
  {
   "cell_type": "code",
   "execution_count": 27,
   "id": "59549f23",
   "metadata": {},
   "outputs": [
    {
     "name": "stdout",
     "output_type": "stream",
     "text": [
      "0\n"
     ]
    }
   ],
   "source": [
    "print(aisles['aisle_id'].duplicated().sum())"
   ]
  },
  {
   "cell_type": "code",
   "execution_count": 28,
   "id": "c0266f83",
   "metadata": {},
   "outputs": [
    {
     "name": "stdout",
     "output_type": "stream",
     "text": [
      "0\n"
     ]
    }
   ],
   "source": [
    "aisles.drop_duplicates(inplace=True)\n",
    "print(aisles.duplicated().sum())"
   ]
  },
  {
   "cell_type": "markdown",
   "id": "f2c3b0e6",
   "metadata": {},
   "source": [
    "<span style=\"font-size: 2em; color: #FF5733; font-weight: bold;\">ORDER_PRODUCTS</span>"
   ]
  },
  {
   "cell_type": "code",
   "execution_count": 29,
   "id": "3fc93da5",
   "metadata": {},
   "outputs": [
    {
     "name": "stdout",
     "output_type": "stream",
     "text": [
      "<class 'pandas.core.frame.DataFrame'>\n",
      "RangeIndex: 4545007 entries, 0 to 4545006\n",
      "Data columns (total 4 columns):\n",
      " #   Column             Dtype  \n",
      "---  ------             -----  \n",
      " 0   order_id           int64  \n",
      " 1   product_id         int64  \n",
      " 2   add_to_cart_order  float64\n",
      " 3   reordered          int64  \n",
      "dtypes: float64(1), int64(3)\n",
      "memory usage: 138.7 MB\n"
     ]
    }
   ],
   "source": [
    "order_products.info()"
   ]
  },
  {
   "cell_type": "code",
   "execution_count": 30,
   "id": "7648ca0a",
   "metadata": {},
   "outputs": [
    {
     "data": {
      "text/plain": [
       "Index(['order_id', 'product_id', 'add_to_cart_order', 'reordered'], dtype='object')"
      ]
     },
     "execution_count": 30,
     "metadata": {},
     "output_type": "execute_result"
    }
   ],
   "source": [
    "order_products.columns"
   ]
  },
  {
   "cell_type": "code",
   "execution_count": 31,
   "id": "edf44127",
   "metadata": {},
   "outputs": [
    {
     "name": "stdout",
     "output_type": "stream",
     "text": [
      "0\n"
     ]
    }
   ],
   "source": [
    "print(order_products.duplicated().sum())"
   ]
  },
  {
   "cell_type": "code",
   "execution_count": 32,
   "id": "1a978e52",
   "metadata": {},
   "outputs": [
    {
     "name": "stdout",
     "output_type": "stream",
     "text": [
      "0\n"
     ]
    },
    {
     "data": {
      "text/html": [
       "<div>\n",
       "<style scoped>\n",
       "    .dataframe tbody tr th:only-of-type {\n",
       "        vertical-align: middle;\n",
       "    }\n",
       "\n",
       "    .dataframe tbody tr th {\n",
       "        vertical-align: top;\n",
       "    }\n",
       "\n",
       "    .dataframe thead th {\n",
       "        text-align: right;\n",
       "    }\n",
       "</style>\n",
       "<table border=\"1\" class=\"dataframe\">\n",
       "  <thead>\n",
       "    <tr style=\"text-align: right;\">\n",
       "      <th></th>\n",
       "      <th>order_id</th>\n",
       "      <th>product_id</th>\n",
       "      <th>add_to_cart_order</th>\n",
       "      <th>reordered</th>\n",
       "    </tr>\n",
       "  </thead>\n",
       "  <tbody>\n",
       "    <tr>\n",
       "      <th>0</th>\n",
       "      <td>2141543</td>\n",
       "      <td>11440</td>\n",
       "      <td>17.0</td>\n",
       "      <td>0</td>\n",
       "    </tr>\n",
       "    <tr>\n",
       "      <th>1</th>\n",
       "      <td>567889</td>\n",
       "      <td>1560</td>\n",
       "      <td>1.0</td>\n",
       "      <td>1</td>\n",
       "    </tr>\n",
       "    <tr>\n",
       "      <th>2</th>\n",
       "      <td>2261212</td>\n",
       "      <td>26683</td>\n",
       "      <td>1.0</td>\n",
       "      <td>1</td>\n",
       "    </tr>\n",
       "    <tr>\n",
       "      <th>3</th>\n",
       "      <td>491251</td>\n",
       "      <td>8670</td>\n",
       "      <td>35.0</td>\n",
       "      <td>1</td>\n",
       "    </tr>\n",
       "    <tr>\n",
       "      <th>4</th>\n",
       "      <td>2571142</td>\n",
       "      <td>1940</td>\n",
       "      <td>5.0</td>\n",
       "      <td>1</td>\n",
       "    </tr>\n",
       "    <tr>\n",
       "      <th>...</th>\n",
       "      <td>...</td>\n",
       "      <td>...</td>\n",
       "      <td>...</td>\n",
       "      <td>...</td>\n",
       "    </tr>\n",
       "    <tr>\n",
       "      <th>4545002</th>\n",
       "      <td>577211</td>\n",
       "      <td>15290</td>\n",
       "      <td>12.0</td>\n",
       "      <td>1</td>\n",
       "    </tr>\n",
       "    <tr>\n",
       "      <th>4545003</th>\n",
       "      <td>1219554</td>\n",
       "      <td>21914</td>\n",
       "      <td>9.0</td>\n",
       "      <td>0</td>\n",
       "    </tr>\n",
       "    <tr>\n",
       "      <th>4545004</th>\n",
       "      <td>692640</td>\n",
       "      <td>47766</td>\n",
       "      <td>4.0</td>\n",
       "      <td>1</td>\n",
       "    </tr>\n",
       "    <tr>\n",
       "      <th>4545005</th>\n",
       "      <td>319435</td>\n",
       "      <td>691</td>\n",
       "      <td>8.0</td>\n",
       "      <td>1</td>\n",
       "    </tr>\n",
       "    <tr>\n",
       "      <th>4545006</th>\n",
       "      <td>1398151</td>\n",
       "      <td>28733</td>\n",
       "      <td>9.0</td>\n",
       "      <td>0</td>\n",
       "    </tr>\n",
       "  </tbody>\n",
       "</table>\n",
       "<p>4545007 rows × 4 columns</p>\n",
       "</div>"
      ],
      "text/plain": [
       "         order_id  product_id  add_to_cart_order  reordered\n",
       "0         2141543       11440               17.0          0\n",
       "1          567889        1560                1.0          1\n",
       "2         2261212       26683                1.0          1\n",
       "3          491251        8670               35.0          1\n",
       "4         2571142        1940                5.0          1\n",
       "...           ...         ...                ...        ...\n",
       "4545002    577211       15290               12.0          1\n",
       "4545003   1219554       21914                9.0          0\n",
       "4545004    692640       47766                4.0          1\n",
       "4545005    319435         691                8.0          1\n",
       "4545006   1398151       28733                9.0          0\n",
       "\n",
       "[4545007 rows x 4 columns]"
      ]
     },
     "execution_count": 32,
     "metadata": {},
     "output_type": "execute_result"
    }
   ],
   "source": [
    "order_products = order_products.drop_duplicates()\n",
    "print(order_products.duplicated().sum())\n",
    "order_products.reset_index(drop=True)"
   ]
  },
  {
   "cell_type": "markdown",
   "id": "853cfd46",
   "metadata": {},
   "source": [
    "Realizaremos Analisis a algunas columnas de unos dataframes"
   ]
  },
  {
   "cell_type": "markdown",
   "id": "1a2e5460",
   "metadata": {},
   "source": [
    "• La columna 'product_name' de la tabla products.\n",
    "• La columna 'days_since_prior_order' de la tabla orders.\n",
    "• La columna 'add_to_cart_order' de la tabla order_productos"
   ]
  },
  {
   "cell_type": "code",
   "execution_count": 33,
   "id": "78b8aa5a",
   "metadata": {},
   "outputs": [
    {
     "name": "stdout",
     "output_type": "stream",
     "text": [
      "1258\n"
     ]
    }
   ],
   "source": [
    "print(products['product_name'].isna().sum())"
   ]
  },
  {
   "cell_type": "markdown",
   "id": "2164e6d2",
   "metadata": {},
   "source": [
    "Va mos a realizar un analisis para identificar si todos los nombres de productos ausentes están relacionados con el pasillo con ID 100"
   ]
  },
  {
   "cell_type": "code",
   "execution_count": 34,
   "id": "e666a459",
   "metadata": {},
   "outputs": [
    {
     "name": "stdout",
     "output_type": "stream",
     "text": [
      "True\n"
     ]
    }
   ],
   "source": [
    "missing_products = products[products['product_name'].isnull()]\n",
    "missing = (missing_products['aisle_id'] == 100).all()\n",
    "print(missing)"
   ]
  },
  {
   "cell_type": "markdown",
   "id": "3be1da29",
   "metadata": {},
   "source": [
    "Esto nos muestra los problemas a los que se entrenta uno si no se tiene cuidado en la captura de los datos limpia y oprtunamente."
   ]
  },
  {
   "cell_type": "markdown",
   "id": "0e43b58e",
   "metadata": {},
   "source": [
    "Seguimos con el analisis, ahora verificaremos si todos los nombres de productos ausentes están relacionados con el departamento con ID 21"
   ]
  },
  {
   "cell_type": "code",
   "execution_count": 35,
   "id": "a25d97c8",
   "metadata": {},
   "outputs": [
    {
     "name": "stdout",
     "output_type": "stream",
     "text": [
      "True\n"
     ]
    }
   ],
   "source": [
    "missing_products = products[products['product_name'].isnull()]\n",
    "missing = (missing_products['department_id'] == 21).all()\n",
    "print(missing)"
   ]
  },
  {
   "cell_type": "markdown",
   "id": "94ffd1b4",
   "metadata": {},
   "source": [
    "<p style=\"color:#FF5733; font-family:'Courier New'; font-size:18px;\">Al obtener esta información nos muestra nuevamente la importancia de tener una buena capacitación para un buen control y toma de datos.</p>"
   ]
  },
  {
   "cell_type": "markdown",
   "id": "7896233e",
   "metadata": {},
   "source": [
    "<p style=\"color:#87CEEB; font-family:'Courier New'; font-size:16px;\">Utilizaremos los dataframes  \"departments\"y \"aisles\" para revisar los datos del pasillo con ID 100 y el departamento con ID 21.</p>."
   ]
  },
  {
   "cell_type": "code",
   "execution_count": 36,
   "id": "6e0f1bc1",
   "metadata": {},
   "outputs": [
    {
     "name": "stdout",
     "output_type": "stream",
     "text": [
      "       product_id product_name  aisle_id  department_id\n",
      "37             38          NaN       100             21\n",
      "71             72          NaN       100             21\n",
      "109           110          NaN       100             21\n",
      "296           297          NaN       100             21\n",
      "416           417          NaN       100             21\n",
      "...           ...          ...       ...            ...\n",
      "49552       49553          NaN       100             21\n",
      "49574       49575          NaN       100             21\n",
      "49640       49641          NaN       100             21\n",
      "49663       49664          NaN       100             21\n",
      "49668       49669          NaN       100             21\n",
      "\n",
      "[1258 rows x 4 columns]\n",
      "       product_id product_name  aisle_id  department_id\n",
      "37             38          NaN       100             21\n",
      "71             72          NaN       100             21\n",
      "109           110          NaN       100             21\n",
      "296           297          NaN       100             21\n",
      "416           417          NaN       100             21\n",
      "...           ...          ...       ...            ...\n",
      "49552       49553          NaN       100             21\n",
      "49574       49575          NaN       100             21\n",
      "49640       49641          NaN       100             21\n",
      "49663       49664          NaN       100             21\n",
      "49668       49669          NaN       100             21\n",
      "\n",
      "[1258 rows x 4 columns]\n"
     ]
    }
   ],
   "source": [
    "aisle_filtered = products.query('aisle_id == 100')\n",
    "department_filtered = products.query('department_id == 21')\n",
    "print(aisle_filtered)\n",
    "print(department_filtered)"
   ]
  },
  {
   "cell_type": "markdown",
   "id": "ea4c4eb9",
   "metadata": {},
   "source": [
    "Esto nos muestra cuan importante es la capacitación en cada departamento, porque esto puede ser resultado del mal control en recepción, almacenaje, etc."
   ]
  },
  {
   "cell_type": "markdown",
   "id": "7d40fc2b",
   "metadata": {},
   "source": [
    "<p style=\"color:#87CEEB; font-family:'Courier New'; font-size:16px;\">Se realizará la colocación de la palabra 'Unknown' a las filas de productos ausentes.</p>."
   ]
  },
  {
   "cell_type": "code",
   "execution_count": 37,
   "id": "b231827d",
   "metadata": {},
   "outputs": [
    {
     "name": "stdout",
     "output_type": "stream",
     "text": [
      "       product_id                                       product_name  \\\n",
      "0               1                         Chocolate Sandwich Cookies   \n",
      "1               2                                   All-Seasons Salt   \n",
      "2               3               Robust Golden Unsweetened Oolong Tea   \n",
      "3               4  Smart Ones Classic Favorites Mini Rigatoni Wit...   \n",
      "4               5                          Green Chile Anytime Sauce   \n",
      "...           ...                                                ...   \n",
      "49689       49690                      HIGH PERFORMANCE ENERGY DRINK   \n",
      "49690       49691                      ORIGINAL PANCAKE & WAFFLE MIX   \n",
      "49691       49692    ORGANIC INSTANT OATMEAL LIGHT MAPLE BROWN SUGAR   \n",
      "49692       49693                             SPRING WATER BODY WASH   \n",
      "49693       49694                            BURRITO- STEAK & CHEESE   \n",
      "\n",
      "       aisle_id  department_id  \n",
      "0            61             19  \n",
      "1           104             13  \n",
      "2            94              7  \n",
      "3            38              1  \n",
      "4             5             13  \n",
      "...         ...            ...  \n",
      "49689        64              7  \n",
      "49690       130             14  \n",
      "49691       130             14  \n",
      "49692       127             11  \n",
      "49693        38              1  \n",
      "\n",
      "[49694 rows x 4 columns]\n"
     ]
    }
   ],
   "source": [
    "products.fillna('unknown', inplace = True)\n",
    "print(products)"
   ]
  },
  {
   "cell_type": "markdown",
   "id": "6ff7dbf5",
   "metadata": {},
   "source": [
    "Se corrigió la falla en la falta de datos, se realizaron  modificaciones para que se pueda observar donde faltan los datos  y posteriormente agrgarlos.\n",
    "Tener una buena base de datos ayuda a la realización oportuna y correcta del trabajo."
   ]
  },
  {
   "cell_type": "markdown",
   "id": "a3a3e049",
   "metadata": {},
   "source": [
    "<p style=\"color:#87CEEB; font-family:'Courier New'; font-size:17px;\">Trabajaremos otra vez con el DataFarame 'orders.</p>."
   ]
  },
  {
   "cell_type": "code",
   "execution_count": 38,
   "id": "af28f332",
   "metadata": {},
   "outputs": [
    {
     "name": "stdout",
     "output_type": "stream",
     "text": [
      "order_id                      0\n",
      "user_id                       0\n",
      "order_number                  0\n",
      "order_dow                     0\n",
      "order_hour_of_day             0\n",
      "days_since_prior_order    28817\n",
      "dtype: int64\n"
     ]
    }
   ],
   "source": [
    "print(orders.isnull().sum())"
   ]
  },
  {
   "cell_type": "markdown",
   "id": "1f779c50",
   "metadata": {},
   "source": [
    "Hay algún valor ausente que no sea el primer pedido del cliente"
   ]
  },
  {
   "cell_type": "code",
   "execution_count": 39,
   "id": "12430516",
   "metadata": {},
   "outputs": [
    {
     "name": "stdout",
     "output_type": "stream",
     "text": [
      "order_id                      0\n",
      "user_id                       0\n",
      "order_dow                     0\n",
      "order_hour_of_day             0\n",
      "days_since_prior_order    28817\n",
      "dtype: int64\n"
     ]
    }
   ],
   "source": [
    "value = orders.loc[:, orders.columns != 'order_number'].isnull().sum()\n",
    "print(value)"
   ]
  },
  {
   "cell_type": "markdown",
   "id": "6d33a1f3",
   "metadata": {},
   "source": [
    "<p style=\"color:#87CEEB; font-family:'Courier New'; font-size:17px;\">Trabajaremos otra vez con el DataFarame 'order_products.</p>."
   ]
  },
  {
   "cell_type": "code",
   "execution_count": 40,
   "id": "92e370a3",
   "metadata": {},
   "outputs": [
    {
     "name": "stdout",
     "output_type": "stream",
     "text": [
      "order_id               0\n",
      "product_id             0\n",
      "add_to_cart_order    836\n",
      "reordered              0\n",
      "dtype: int64\n"
     ]
    }
   ],
   "source": [
    "print(order_products.isnull().sum())"
   ]
  },
  {
   "cell_type": "markdown",
   "id": "a4cb8367",
   "metadata": {},
   "source": [
    "Buscaremos los valores mínimos y máximos en la columna 'add_to_cart_order'"
   ]
  },
  {
   "cell_type": "code",
   "execution_count": 41,
   "id": "1e0a8566",
   "metadata": {},
   "outputs": [
    {
     "name": "stdout",
     "output_type": "stream",
     "text": [
      "(np.float64(1.0), np.float64(64.0))\n"
     ]
    }
   ],
   "source": [
    "min_max = order_products['add_to_cart_order'].min(), order_products['add_to_cart_order'].max()\n",
    "print(min_max)"
   ]
  },
  {
   "cell_type": "markdown",
   "id": "626e5006",
   "metadata": {},
   "source": [
    "Seguimos encontrando falta de datos en los DataFrames, a seguir trabajando."
   ]
  },
  {
   "cell_type": "markdown",
   "id": "3628a1d4",
   "metadata": {},
   "source": [
    "Se guardaran  todas las IDs de pedidos que tengan un valor ausente en la columna 'add_to_cart_order'"
   ]
  },
  {
   "cell_type": "code",
   "execution_count": 42,
   "id": "89795329",
   "metadata": {},
   "outputs": [
    {
     "name": "stdout",
     "output_type": "stream",
     "text": [
      "[2449164, 1968313, 2926893, 1717990, 1959075, 844733, 61355, 936852, 264710, 1717990, 1564093, 129627, 264710, 293169, 2849370, 1386261, 3308010, 903110, 2136777, 3347453, 1888628, 165801, 2449164, 2094761, 3347453, 1038146, 2136777, 2997021, 844733, 844733, 2136777, 813364, 165801, 2256933, 171934, 264710, 2449164, 2409109, 3347453, 813364, 2926893, 936852, 1730767, 1169835, 733526, 844733, 293169, 61355, 903110, 1968313, 733526, 2136777, 2926893, 404157, 1386261, 171934, 3125735, 747668, 3308010, 1169835, 1800005, 1961723, 936852, 2849370, 3308010, 61355, 871281, 1717990, 813364, 388234, 61355, 3125735, 1959075, 61355, 3125735, 1648217, 171934, 3125735, 61355, 1477139, 1959075, 1717990, 1717990, 61355, 1717990, 171934, 1038146, 3308010, 3347453, 102236, 936852, 171934, 1730767, 2926893, 1021563, 1832957, 1959075, 2256933, 1968313, 2721963, 293169, 102236, 3125735, 1959075, 264710, 678116, 1220886, 1386261, 171934, 1959075, 61355, 3308010, 61355, 102236, 388234, 171934, 3308010, 1961723, 2721963, 3308010, 1564093, 264710, 404157, 1673227, 813364, 2094761, 844733, 1386261, 1959075, 3125735, 61355, 102236, 3308010, 1386261, 936852, 2999801, 1038146, 1888628, 813364, 1800005, 1968313, 3308010, 2449164, 388234, 3125735, 102236, 903110, 1832957, 102236, 3308010, 2926893, 388234, 1800005, 2094761, 2721963, 844733, 2136777, 2926893, 813364, 2136777, 1673227, 1633337, 1021563, 102236, 1800005, 1477139, 2470674, 1220886, 2470674, 1648217, 264710, 1832957, 2721963, 2849370, 2625444, 871281, 1717990, 1220886, 1677118, 1730767, 1730767, 678116, 102236, 2136777, 61355, 2136777, 903110, 844733, 2849370, 1832957, 1730767, 2479011, 3383594, 61355, 1832957, 1021563, 1021563, 1959075, 1832957, 813364, 61355, 61355, 2926893, 1959075, 1648217, 2136777, 264710, 1800005, 2094761, 2926893, 1959075, 264710, 61355, 3308010, 2256933, 936852, 3308010, 1038146, 1183255, 2256933, 1832957, 1386261, 1713430, 1730767, 2136777, 3308010, 1717990, 171934, 1968313, 1717990, 2136777, 1648217, 1968313, 2652650, 733526, 1673227, 2849370, 61355, 3308010, 1169835, 3308010, 171934, 2999801, 1717990, 1386261, 936852, 1968313, 1713430, 1800005, 2136777, 264710, 264710, 2926893, 165801, 1598369, 2997021, 1730767, 61355, 1916118, 1730767, 3308010, 2479011, 2449164, 61355, 3125735, 2094761, 1888628, 3125735, 264710, 171934, 1800005, 1038146, 1959075, 102236, 3308010, 1386261, 1800005, 2470674, 2926893, 2470674, 102236, 3308010, 1717990, 903110, 2997021, 129627, 3383594, 3308010, 1386261, 854647, 102236, 1038146, 3308010, 936852, 264710, 264710, 1800005, 61355, 1220886, 2136777, 293169, 1800005, 1888628, 813364, 2136777, 61355, 1730767, 1021563, 2721963, 1730767, 1564093, 3308010, 2849370, 3308010, 1302315, 1888628, 61355, 1959075, 61355, 2136777, 733526, 3308010, 1730767, 1183255, 264710, 1730767, 678116, 2721963, 2136777, 3308010, 2721963, 2409109, 871281, 171934, 678116, 2849370, 813364, 3125735, 1730767, 61355, 2999801, 1648217, 936852, 3125735, 61355, 2849370, 1220886, 1959075, 2256933, 171934, 2926893, 2926893, 404157, 2136777, 3308010, 1021563, 404157, 171934, 61355, 2094761, 1832957, 293169, 813364, 293169, 3125735, 1021563, 1800005, 3308010, 936852, 264710, 171934, 888470, 1673227, 871281, 1800005, 3308010, 1730767, 180546, 2621907, 1730767, 936852, 1959075, 1169835, 1730767, 2926893, 854647, 2449164, 3308010, 2470674, 1183255, 61355, 1386261, 903110, 2094761, 903110, 264710, 1648217, 293169, 2479011, 1730767, 1730767, 2926893, 61355, 3125735, 1959075, 2409109, 2926893, 1021563, 1386261, 3308010, 2926893, 1800005, 61355, 2449164, 102236, 3308010, 1308785, 1800005, 2926893, 61355, 2136777, 1717990, 3308010, 1730767, 871281, 1673227, 102236, 2136777, 1717990, 813364, 1800005, 1959075, 813364, 165801, 2136777, 2729254, 1673227, 1961723, 61355, 1183255, 2136777, 1302315, 1386261, 2849370, 171934, 2136777, 3308010, 733526, 1959075, 9310, 813364, 2170451, 1800005, 404157, 871281, 3125735, 2721963, 404157, 129627, 678116, 2926893, 264710, 2256933, 102236, 102236, 1021563, 264710, 2926893, 936852, 102236, 1968313, 936852, 293169, 2136777, 2136777, 61355, 1183255, 1730767, 1800005, 2479011, 1386261, 1800005, 1673227, 3308010, 2926893, 2926893, 61355, 1832957, 1717990, 813364, 2999801, 264710, 3308010, 3347453, 3308010, 936852, 813364, 404157, 171934, 903110, 871281, 102236, 61355, 813364, 102236, 3308010, 1800005, 1832957, 2479011, 171934, 171934, 844733, 3308010, 171934, 1800005, 404157, 1673227, 3383594, 3308010, 2136777, 102236, 1717990, 2094761, 102236, 1959075, 171934, 2136777, 1386261, 2136777, 2449164, 171934, 3308010, 1220886, 2136777, 1959075, 2136777, 171934, 936852, 3308010, 2470674, 871281, 2721963, 102236, 61355, 3125735, 3308010, 1386261, 1717990, 293169, 61355, 1386261, 2721963, 2136777, 1888628, 264710, 1564093, 2136777, 1730767, 2849370, 2721963, 293169, 264710, 2721963, 3125735, 1959075, 404157, 171934, 61355, 1959075, 871281, 61355, 1183255, 1673227, 2849370, 1477139, 1730767, 903110, 844733, 3308010, 1673227, 61355, 171934, 2926893, 2926893, 1959075, 2479011, 3347453, 2721963, 2625444, 171934, 813364, 102236, 61355, 844733, 2721963, 1302315, 813364, 61355, 2926893, 1968313, 1968313, 264710, 1717990, 1730767, 2136777, 2721963, 2136777, 2721963, 171934, 171934, 2979697, 1730767, 1888628, 1625713, 2136777, 1800005, 2094761, 1961723, 1564093, 1959075, 1916118, 61355, 2997021, 293169, 3308010, 1529171, 61355, 2256933, 1959075, 2449164, 1673227, 2479011, 1888628, 1800005, 2470674, 1386261, 3125735, 2721963, 2926893, 1800005, 1386261, 2136777, 61355, 171934, 3308010, 61355, 936852, 61355, 936852, 293169, 1386261, 171934, 1800005, 871281, 3125735, 61355, 1959075, 1968313, 1717990, 3308010, 844733, 129627, 844733, 264710, 165801, 1386261, 2136777, 2721963, 1730767, 3125735, 2136777, 1183255, 171934, 936852, 854647, 1386261, 2926893, 1961723, 61355, 1730767, 1633337, 61355, 1959075, 102236, 404157, 1968313, 1386261, 2136777, 2999801, 1529171, 2721963, 61355, 3383594, 1730767, 936852, 2926893, 102236, 1959075, 102236, 1713430, 3383594, 102236, 1959075, 678116, 2449164, 844733, 61355, 3308010, 61355, 2136777, 264710, 171934, 813364, 3308010, 1730767, 61355, 102236, 61355, 1717990, 3308010, 1968313, 129627, 936852, 61355, 61355, 165801, 2409109, 2926893, 61355, 1961723, 1832957, 1961723, 1183255, 61355, 2999801, 1220886, 3125735, 171934, 388234, 102236, 102236, 61355, 2721963, 1800005, 1968313, 2136777, 61355, 1220886, 61355, 936852, 1673227, 936852, 1673227, 1625713, 171934, 2136777, 1800005, 1730767, 264710, 102236, 61355, 903110, 2136777, 1959075, 3125735, 171934, 1169835, 3308010, 61355, 1959075, 2721963, 813364, 1477139, 1888628, 1730767, 1959075, 2479011, 3308010, 2721963, 1717990, 2409109, 171934, 171934, 1183255, 1800005, 171934, 2136777, 388234, 264710, 61355, 1730767, 1717990, 1916118, 264710, 3125735, 1959075, 813364, 3347453, 293169, 171934, 1386261, 1183255, 1717990, 1308785, 2625444, 171934, 102236, 1386261, 1968313, 1386261, 404157, 1959075, 1832957, 1961723, 936852, 1386261, 2449164, 171934, 1959075, 2449164, 180546, 1183255, 1386261, 1968313, 2136777, 3308010, 2479011, 2979697, 1888628, 1832957, 1961723, 1800005, 1633337, 404157, 1673227, 1832957]\n"
     ]
    }
   ],
   "source": [
    "missing_value = order_products[order_products['add_to_cart_order'].isna()]\n",
    "iDs = missing_value['order_id'].tolist()\n",
    "print(iDs)"
   ]
  },
  {
   "cell_type": "markdown",
   "id": "eb0443a8",
   "metadata": {},
   "source": [
    "¿Todos los pedidos con valores ausentes tienen más de 64 productos?"
   ]
  },
  {
   "cell_type": "code",
   "execution_count": 43,
   "id": "080756d3",
   "metadata": {},
   "outputs": [
    {
     "name": "stdout",
     "output_type": "stream",
     "text": [
      "False\n"
     ]
    }
   ],
   "source": [
    "order_value = order_products[order_products.isnull().any(axis=1)]\n",
    "products_2 = order_value.groupby('order_id')['product_id'].count()\n",
    "all_64 = (products_2 > 64).all()\n",
    "print(all_64)"
   ]
  },
  {
   "cell_type": "markdown",
   "id": "c26b7090",
   "metadata": {},
   "source": [
    "Agrupa todos los pedidos con datos ausentes por su ID de pedido."
   ]
  },
  {
   "cell_type": "code",
   "execution_count": 44,
   "id": "32627e21",
   "metadata": {},
   "outputs": [
    {
     "name": "stdout",
     "output_type": "stream",
     "text": [
      "[2449164 1968313 2926893 1717990 1959075  844733   61355  936852  264710\n",
      " 1564093  129627  293169 2849370 1386261 3308010  903110 2136777 3347453\n",
      " 1888628  165801 2094761 1038146 2997021  813364 2256933  171934 2409109\n",
      " 1730767 1169835  733526  404157 3125735  747668 1800005 1961723  871281\n",
      "  388234 1648217 1477139  102236 1021563 1832957 2721963  678116 1220886\n",
      " 1673227 2999801 1633337 2470674 2625444 1677118 2479011 3383594 1183255\n",
      " 1713430 2652650 1598369 1916118  854647 1302315  888470  180546 2621907\n",
      " 1308785 2729254    9310 2170451 2979697 1625713 1529171]\n"
     ]
    }
   ],
   "source": [
    "id_missing = order_products[order_products.isnull().any(axis=1)]\n",
    "order_1 = id_missing['order_id'].unique()\n",
    "print(order_1)"
   ]
  },
  {
   "cell_type": "markdown",
   "id": "898ef53b",
   "metadata": {},
   "source": [
    " Se realizará el conteo del número de 'product_id' en cada pedido y  se revisa el valor mínimo del conteo."
   ]
  },
  {
   "cell_type": "code",
   "execution_count": 45,
   "id": "6e6b47ae",
   "metadata": {},
   "outputs": [
    {
     "name": "stdout",
     "output_type": "stream",
     "text": [
      "1\n"
     ]
    }
   ],
   "source": [
    "product_3= order_products.groupby('order_id')['product_id'].count()\n",
    "min = product_3.min()\n",
    "print(min)"
   ]
  },
  {
   "cell_type": "markdown",
   "id": "f8c91e63",
   "metadata": {},
   "source": [
    "Se realizará el reemplazo a los valores ausentes en la columna 'add_to_cart? con 999 y  se convierte la columna al tipo entero."
   ]
  },
  {
   "cell_type": "code",
   "execution_count": 48,
   "id": "daa7f346",
   "metadata": {},
   "outputs": [
    {
     "name": "stdout",
     "output_type": "stream",
     "text": [
      "[ 17   1  35   5   4  10  14   2  28   3  16   8   7   6   9  15  22  49\n",
      "  19  13  11  12  18  24  23  45  30  31  29  21  38  20  57  58  26  25\n",
      "  39  34  40  27 999  43  33  42  50  32  36  37  61  46  56  41  44  55\n",
      "  54  47  63  48  60  62  53  59  52  51  64]\n"
     ]
    }
   ],
   "source": [
    "order_products['add_to_cart_order'] = order_products['add_to_cart_order'].fillna('999')\n",
    "print(order_products['add_to_cart_order'].unique())"
   ]
  },
  {
   "cell_type": "markdown",
   "id": "9855c0f2",
   "metadata": {},
   "source": [
    "Se observaron bastantes valores ausentes en la base de datos, esto puede ser por diversas causas, pero se realizo un analisis y limpieza para obtener los mejores resultados de los mismos"
   ]
  },
  {
   "cell_type": "markdown",
   "id": "991f5c9b",
   "metadata": {},
   "source": [
    "Vamos a verificar que los valores en las columnas 'order_hour_of_day' y 'order_dow' en el DataFrame\n",
    "'orders' sean correctos, es decir, 'order_hour_of_day' oscile entre 0 y 23 y 'order_dow'\n",
    "oscile entre 0 y 6."
   ]
  },
  {
   "cell_type": "code",
   "execution_count": 49,
   "id": "799814c0",
   "metadata": {},
   "outputs": [
    {
     "name": "stdout",
     "output_type": "stream",
     "text": [
      "[ 0  0  0 ... 23 23 23]\n"
     ]
    }
   ],
   "source": [
    "orders.order_hour_of_day.unique()\n",
    "print(np.sort(orders.order_hour_of_day))"
   ]
  },
  {
   "cell_type": "code",
   "execution_count": 50,
   "id": "5e17dcc9",
   "metadata": {},
   "outputs": [
    {
     "name": "stdout",
     "output_type": "stream",
     "text": [
      "[0 0 0 ... 6 6 6]\n"
     ]
    }
   ],
   "source": [
    "orders.order_dow.unique()\n",
    "print(np.sort(orders.order_dow))"
   ]
  },
  {
   "cell_type": "markdown",
   "id": "492ebdea",
   "metadata": {},
   "source": [
    "Los datos son los necesarios y correctos para seguir trabajando con ellos"
   ]
  },
  {
   "cell_type": "markdown",
   "id": "954fb127",
   "metadata": {},
   "source": [
    "Para cada hora del día, ¿cuántas personas hacen órdenes?\n"
   ]
  }
 ],
 "metadata": {
  "kernelspec": {
   "display_name": "Python 3",
   "language": "python",
   "name": "python3"
  },
  "language_info": {
   "codemirror_mode": {
    "name": "ipython",
    "version": 3
   },
   "file_extension": ".py",
   "mimetype": "text/x-python",
   "name": "python",
   "nbconvert_exporter": "python",
   "pygments_lexer": "ipython3",
   "version": "3.13.3"
  }
 },
 "nbformat": 4,
 "nbformat_minor": 5
}
